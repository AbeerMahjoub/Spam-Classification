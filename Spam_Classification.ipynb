{
  "nbformat": 4,
  "nbformat_minor": 0,
  "metadata": {
    "colab": {
      "name": "Spam Classification.ipynb",
      "provenance": []
    },
    "kernelspec": {
      "name": "python3",
      "display_name": "Python 3"
    },
    "language_info": {
      "name": "python"
    }
  },
  "cells": [
    {
      "cell_type": "markdown",
      "source": [
        "# Contents:\n",
        "\n",
        "\n",
        "\n",
        "*   [Data](https://www2.aueb.gr/users/ion/data/enron-spam/)\n",
        "*   [Exploring Data](#exp)\n",
        "*   [Text Preprocessing](#preproc)\n",
        "*   [Naive Bayes Implementation](#nai)\n",
        "*   [Testing](#tst)\n",
        "*   [Evaluation](#eva)\n",
        "*   [Cross Validation and Hyper Tunning](#cross-va)\n",
        "\n",
        "\n",
        "\n"
      ],
      "metadata": {
        "id": "XIMxxhK7G1M1"
      }
    },
    {
      "cell_type": "markdown",
      "source": [
        "# Libraries:"
      ],
      "metadata": {
        "id": "9SwJrb_Zqe_f"
      }
    },
    {
      "cell_type": "code",
      "source": [
        "import glob, os\n",
        "import pandas as pd\n",
        "import seaborn as sns\n",
        "import matplotlib.pyplot as plt\n",
        "import numpy as np\n",
        "\n",
        "from collections import defaultdict\n",
        "\n",
        "from nltk.corpus import names\n",
        "from nltk.stem import WordNetLemmatizer\n",
        "\n",
        "from sklearn.feature_extraction.text import CountVectorizer\n",
        "from sklearn.model_selection import train_test_split, StratifiedKFold\n",
        "from sklearn.naive_bayes import MultinomialNB\n",
        "from sklearn.metrics import confusion_matrix,precision_score, recall_score, f1_score, classification_report, roc_auc_score\n",
        "\n",
        "import warnings\n",
        "warnings.filterwarnings('ignore')\n",
        "warnings.filterwarnings(\"ignore\", category=DeprecationWarning)"
      ],
      "metadata": {
        "id": "5NNlpuTqqhEr"
      },
      "execution_count": 74,
      "outputs": []
    },
    {
      "cell_type": "markdown",
      "source": [
        "<a name = 'exp'></a>\n",
        "# Data:"
      ],
      "metadata": {
        "id": "dI1I5jdEG7zF"
      }
    },
    {
      "cell_type": "code",
      "source": [
        "#!tar -xzvf \"/content/drive/MyDrive/enron1.tar.gz\" -C \"/content/drive/MyDrive/\"  "
      ],
      "metadata": {
        "id": "7t_kgl3OG7X6"
      },
      "execution_count": 3,
      "outputs": []
    },
    {
      "cell_type": "code",
      "source": [
        "# Number of ham messages:\n",
        "!ls -l /content/drive/MyDrive/enron1/ham/*.txt  | wc -l"
      ],
      "metadata": {
        "id": "dja14zd7Xyf9",
        "colab": {
          "base_uri": "https://localhost:8080/"
        },
        "outputId": "86c2f2a3-d661-4951-e124-39e78e534e59"
      },
      "execution_count": 4,
      "outputs": [
        {
          "output_type": "stream",
          "name": "stdout",
          "text": [
            "3672\n"
          ]
        }
      ]
    },
    {
      "cell_type": "code",
      "source": [
        "# Number of spam messages:\n",
        "!ls -l /content/drive/MyDrive/enron1/spam/*.txt  | wc -l"
      ],
      "metadata": {
        "colab": {
          "base_uri": "https://localhost:8080/"
        },
        "id": "kgpRDBn3oMos",
        "outputId": "036c7432-9a89-4a3a-bc1f-2630d7c5ed41"
      },
      "execution_count": 5,
      "outputs": [
        {
          "output_type": "stream",
          "name": "stdout",
          "text": [
            "1500\n"
          ]
        }
      ]
    },
    {
      "cell_type": "markdown",
      "source": [
        "## Look at ham example:"
      ],
      "metadata": {
        "id": "AMlndqxao1gW"
      }
    },
    {
      "cell_type": "code",
      "source": [
        "file_path = \"/content/drive/MyDrive/enron1/ham/0007.1999-12-14.farmer.ham.txt\"\n",
        "with open(file_path, 'r') as file:\n",
        "  hamsample = file.read()\n"
      ],
      "metadata": {
        "id": "KELqSzZOoYsA"
      },
      "execution_count": 6,
      "outputs": []
    },
    {
      "cell_type": "code",
      "source": [
        "print(hamsample)\n"
      ],
      "metadata": {
        "colab": {
          "base_uri": "https://localhost:8080/"
        },
        "id": "Pkspr3J7odtu",
        "outputId": "468ada53-966e-4556-8196-9a2f37f5a122"
      },
      "execution_count": 7,
      "outputs": [
        {
          "output_type": "stream",
          "name": "stdout",
          "text": [
            "Subject: mcmullen gas for 11 / 99\n",
            "jackie ,\n",
            "since the inlet to 3 river plant is shut in on 10 / 19 / 99 ( the last day of\n",
            "flow ) :\n",
            "at what meter is the mcmullen gas being diverted to ?\n",
            "at what meter is hpl buying the residue gas ? ( this is the gas from teco ,\n",
            "vastar , vintage , tejones , and swift )\n",
            "i still see active deals at meter 3405 in path manager for teco , vastar ,\n",
            "vintage , tejones , and swift\n",
            "i also see gas scheduled in pops at meter 3404 and 3405 .\n",
            "please advice . we need to resolve this as soon as possible so settlement\n",
            "can send out payments .\n",
            "thanks\n"
          ]
        }
      ]
    },
    {
      "cell_type": "markdown",
      "source": [
        "## Look at spam example:"
      ],
      "metadata": {
        "id": "lJ9BIbdLp_hS"
      }
    },
    {
      "cell_type": "code",
      "source": [
        "file_path = \"/content/drive/MyDrive/enron1/spam/0006.2003-12-18.GP.spam.txt\"\n",
        "with open(file_path, 'r') as file:\n",
        "  spamsample = file.read()\n"
      ],
      "metadata": {
        "id": "3VfUi9q0pTkY"
      },
      "execution_count": 8,
      "outputs": []
    },
    {
      "cell_type": "code",
      "source": [
        "print(spamsample)"
      ],
      "metadata": {
        "colab": {
          "base_uri": "https://localhost:8080/"
        },
        "id": "96s11_UfqLC9",
        "outputId": "66754109-dd44-4302-9308-10d4b8ae0ea2"
      },
      "execution_count": 9,
      "outputs": [
        {
          "output_type": "stream",
          "name": "stdout",
          "text": [
            "Subject: dobmeos with hgh my energy level has gone up ! stukm\n",
            "introducing\n",
            "doctor - formulated\n",
            "hgh\n",
            "human growth hormone - also called hgh\n",
            "is referred to in medical science as the master hormone . it is very plentiful\n",
            "when we are young , but near the age of twenty - one our bodies begin to produce\n",
            "less of it . by the time we are forty nearly everyone is deficient in hgh ,\n",
            "and at eighty our production has normally diminished at least 90 - 95 % .\n",
            "advantages of hgh :\n",
            "- increased muscle strength\n",
            "- loss in body fat\n",
            "- increased bone density\n",
            "- lower blood pressure\n",
            "- quickens wound healing\n",
            "- reduces cellulite\n",
            "- improved vision\n",
            "- wrinkle disappearance\n",
            "- increased skin thickness texture\n",
            "- increased energy levels\n",
            "- improved sleep and emotional stability\n",
            "- improved memory and mental alertness\n",
            "- increased sexual potency\n",
            "- resistance to common illness\n",
            "- strengthened heart muscle\n",
            "- controlled cholesterol\n",
            "- controlled mood swings\n",
            "- new hair growth and color restore\n",
            "read\n",
            "more at this website\n",
            "unsubscribe\n",
            "\n"
          ]
        }
      ]
    },
    {
      "cell_type": "markdown",
      "source": [
        "## read files:"
      ],
      "metadata": {
        "id": "YgU7lYkvqlXE"
      }
    },
    {
      "cell_type": "code",
      "source": [
        "emails, labels = [], []"
      ],
      "metadata": {
        "id": "JaQqu0ybrjdu"
      },
      "execution_count": 10,
      "outputs": []
    },
    {
      "cell_type": "code",
      "source": [
        "file_path = \"/content/drive/MyDrive/enron1/spam/\"\n",
        "\n",
        "for file_name in glob.glob(os.path.join(file_path, '*.txt')):\n",
        "  with open(file_name, 'r', encoding= 'ISO-8859-1') as f:\n",
        "    emails.append(f.read())\n",
        "    labels.append(1)\n",
        "\n"
      ],
      "metadata": {
        "id": "pKl1wX8zqNYI"
      },
      "execution_count": 11,
      "outputs": []
    },
    {
      "cell_type": "code",
      "source": [
        "file_path = \"/content/drive/MyDrive/enron1/ham/\"\n",
        "for file_name in glob.glob(os.path.join(file_path, '*.txt')):\n",
        "  with open(file_name, 'r', encoding= 'ISO-8859-1') as f:\n",
        "    emails.append(f.read())\n",
        "    labels.append(0)\n"
      ],
      "metadata": {
        "id": "G1DUPlDnrlP9"
      },
      "execution_count": 12,
      "outputs": []
    },
    {
      "cell_type": "code",
      "source": [
        "len(emails) , len(labels)"
      ],
      "metadata": {
        "colab": {
          "base_uri": "https://localhost:8080/"
        },
        "id": "822kSbjXs-A_",
        "outputId": "406c829e-4110-473d-e05b-d246513b75a6"
      },
      "execution_count": 13,
      "outputs": [
        {
          "output_type": "execute_result",
          "data": {
            "text/plain": [
              "(5172, 5172)"
            ]
          },
          "metadata": {},
          "execution_count": 13
        }
      ]
    },
    {
      "cell_type": "code",
      "source": [
        "df = pd.DataFrame({\"email\": emails,\n",
        "                   \"label\": labels})\n",
        "df.head()"
      ],
      "metadata": {
        "colab": {
          "base_uri": "https://localhost:8080/",
          "height": 206
        },
        "id": "OWm10x_qwQDx",
        "outputId": "7ea53f7a-a133-4a06-dc03-2c184cc41dae"
      },
      "execution_count": 14,
      "outputs": [
        {
          "output_type": "execute_result",
          "data": {
            "text/plain": [
              "                                               email  label\n",
              "0  Subject: anomaly boys from 3881\\nuosda apaprov...      1\n",
              "1  Subject: i like his cock being huge !\\nkatya g...      1\n",
              "2  Subject: open immediately for smart s - p - a ...      1\n",
              "3  Subject: new zenoil . massive rock - sloid ere...      1\n",
              "4  Subject: please confirm your interest .\\nmy de...      1"
            ],
            "text/html": [
              "\n",
              "  <div id=\"df-eca0c743-f810-4227-9f33-077da90b8d44\">\n",
              "    <div class=\"colab-df-container\">\n",
              "      <div>\n",
              "<style scoped>\n",
              "    .dataframe tbody tr th:only-of-type {\n",
              "        vertical-align: middle;\n",
              "    }\n",
              "\n",
              "    .dataframe tbody tr th {\n",
              "        vertical-align: top;\n",
              "    }\n",
              "\n",
              "    .dataframe thead th {\n",
              "        text-align: right;\n",
              "    }\n",
              "</style>\n",
              "<table border=\"1\" class=\"dataframe\">\n",
              "  <thead>\n",
              "    <tr style=\"text-align: right;\">\n",
              "      <th></th>\n",
              "      <th>email</th>\n",
              "      <th>label</th>\n",
              "    </tr>\n",
              "  </thead>\n",
              "  <tbody>\n",
              "    <tr>\n",
              "      <th>0</th>\n",
              "      <td>Subject: anomaly boys from 3881\\nuosda apaprov...</td>\n",
              "      <td>1</td>\n",
              "    </tr>\n",
              "    <tr>\n",
              "      <th>1</th>\n",
              "      <td>Subject: i like his cock being huge !\\nkatya g...</td>\n",
              "      <td>1</td>\n",
              "    </tr>\n",
              "    <tr>\n",
              "      <th>2</th>\n",
              "      <td>Subject: open immediately for smart s - p - a ...</td>\n",
              "      <td>1</td>\n",
              "    </tr>\n",
              "    <tr>\n",
              "      <th>3</th>\n",
              "      <td>Subject: new zenoil . massive rock - sloid ere...</td>\n",
              "      <td>1</td>\n",
              "    </tr>\n",
              "    <tr>\n",
              "      <th>4</th>\n",
              "      <td>Subject: please confirm your interest .\\nmy de...</td>\n",
              "      <td>1</td>\n",
              "    </tr>\n",
              "  </tbody>\n",
              "</table>\n",
              "</div>\n",
              "      <button class=\"colab-df-convert\" onclick=\"convertToInteractive('df-eca0c743-f810-4227-9f33-077da90b8d44')\"\n",
              "              title=\"Convert this dataframe to an interactive table.\"\n",
              "              style=\"display:none;\">\n",
              "        \n",
              "  <svg xmlns=\"http://www.w3.org/2000/svg\" height=\"24px\"viewBox=\"0 0 24 24\"\n",
              "       width=\"24px\">\n",
              "    <path d=\"M0 0h24v24H0V0z\" fill=\"none\"/>\n",
              "    <path d=\"M18.56 5.44l.94 2.06.94-2.06 2.06-.94-2.06-.94-.94-2.06-.94 2.06-2.06.94zm-11 1L8.5 8.5l.94-2.06 2.06-.94-2.06-.94L8.5 2.5l-.94 2.06-2.06.94zm10 10l.94 2.06.94-2.06 2.06-.94-2.06-.94-.94-2.06-.94 2.06-2.06.94z\"/><path d=\"M17.41 7.96l-1.37-1.37c-.4-.4-.92-.59-1.43-.59-.52 0-1.04.2-1.43.59L10.3 9.45l-7.72 7.72c-.78.78-.78 2.05 0 2.83L4 21.41c.39.39.9.59 1.41.59.51 0 1.02-.2 1.41-.59l7.78-7.78 2.81-2.81c.8-.78.8-2.07 0-2.86zM5.41 20L4 18.59l7.72-7.72 1.47 1.35L5.41 20z\"/>\n",
              "  </svg>\n",
              "      </button>\n",
              "      \n",
              "  <style>\n",
              "    .colab-df-container {\n",
              "      display:flex;\n",
              "      flex-wrap:wrap;\n",
              "      gap: 12px;\n",
              "    }\n",
              "\n",
              "    .colab-df-convert {\n",
              "      background-color: #E8F0FE;\n",
              "      border: none;\n",
              "      border-radius: 50%;\n",
              "      cursor: pointer;\n",
              "      display: none;\n",
              "      fill: #1967D2;\n",
              "      height: 32px;\n",
              "      padding: 0 0 0 0;\n",
              "      width: 32px;\n",
              "    }\n",
              "\n",
              "    .colab-df-convert:hover {\n",
              "      background-color: #E2EBFA;\n",
              "      box-shadow: 0px 1px 2px rgba(60, 64, 67, 0.3), 0px 1px 3px 1px rgba(60, 64, 67, 0.15);\n",
              "      fill: #174EA6;\n",
              "    }\n",
              "\n",
              "    [theme=dark] .colab-df-convert {\n",
              "      background-color: #3B4455;\n",
              "      fill: #D2E3FC;\n",
              "    }\n",
              "\n",
              "    [theme=dark] .colab-df-convert:hover {\n",
              "      background-color: #434B5C;\n",
              "      box-shadow: 0px 1px 3px 1px rgba(0, 0, 0, 0.15);\n",
              "      filter: drop-shadow(0px 1px 2px rgba(0, 0, 0, 0.3));\n",
              "      fill: #FFFFFF;\n",
              "    }\n",
              "  </style>\n",
              "\n",
              "      <script>\n",
              "        const buttonEl =\n",
              "          document.querySelector('#df-eca0c743-f810-4227-9f33-077da90b8d44 button.colab-df-convert');\n",
              "        buttonEl.style.display =\n",
              "          google.colab.kernel.accessAllowed ? 'block' : 'none';\n",
              "\n",
              "        async function convertToInteractive(key) {\n",
              "          const element = document.querySelector('#df-eca0c743-f810-4227-9f33-077da90b8d44');\n",
              "          const dataTable =\n",
              "            await google.colab.kernel.invokeFunction('convertToInteractive',\n",
              "                                                     [key], {});\n",
              "          if (!dataTable) return;\n",
              "\n",
              "          const docLinkHtml = 'Like what you see? Visit the ' +\n",
              "            '<a target=\"_blank\" href=https://colab.research.google.com/notebooks/data_table.ipynb>data table notebook</a>'\n",
              "            + ' to learn more about interactive tables.';\n",
              "          element.innerHTML = '';\n",
              "          dataTable['output_type'] = 'display_data';\n",
              "          await google.colab.output.renderOutput(dataTable, element);\n",
              "          const docLink = document.createElement('div');\n",
              "          docLink.innerHTML = docLinkHtml;\n",
              "          element.appendChild(docLink);\n",
              "        }\n",
              "      </script>\n",
              "    </div>\n",
              "  </div>\n",
              "  "
            ]
          },
          "metadata": {},
          "execution_count": 14
        }
      ]
    },
    {
      "cell_type": "code",
      "source": [
        "df.to_csv(\"/content/drive/MyDrive/enron1/all_mails.csv\", index= False)"
      ],
      "metadata": {
        "id": "qEm_SnhRwyEB"
      },
      "execution_count": 15,
      "outputs": []
    },
    {
      "cell_type": "markdown",
      "source": [
        "<a name = 'preproc' ></a>\n",
        "# Text Preprocessing:\n",
        "\n",
        "\n",
        "*   Number and punctuation removal.\n",
        "*   Human name removal.\n",
        "*   Stop words removal.\n",
        "*   Lemmatization.\n",
        "\n",
        "\n",
        "\n",
        "\n"
      ],
      "metadata": {
        "id": "r2VyY9WKx34I"
      }
    },
    {
      "cell_type": "code",
      "source": [
        "def letters_only(astr):\n",
        "  return astr.isalpha()\n",
        "all_names = set(names.words())\n",
        "lemmatizer = WordNetLemmatizer()"
      ],
      "metadata": {
        "id": "xRB_Mmphw_Hs"
      },
      "execution_count": 19,
      "outputs": []
    },
    {
      "cell_type": "code",
      "source": [
        "def clean_text(docs):\n",
        "  cleaned_docs = []\n",
        "  for doc in docs:\n",
        "    cleaned_docs.append( ' '.join([lemmatizer.lemmatize(word.lower()) for word in doc.split() if letters_only(word) and word not in all_names]))\n",
        "  return cleaned_docs"
      ],
      "metadata": {
        "id": "kKe4zZ4716US"
      },
      "execution_count": 23,
      "outputs": []
    },
    {
      "cell_type": "code",
      "source": [
        "cleaned_emails = clean_text(emails)"
      ],
      "metadata": {
        "id": "hr9_HtqB2cYu"
      },
      "execution_count": 24,
      "outputs": []
    },
    {
      "cell_type": "code",
      "source": [
        "cleaned_emails[0]"
      ],
      "metadata": {
        "colab": {
          "base_uri": "https://localhost:8080/",
          "height": 70
        },
        "id": "UpRBQFQ52gGF",
        "outputId": "08694c66-21a0-4fb1-ea83-6e0d3d8e3326"
      },
      "execution_count": 25,
      "outputs": [
        {
          "output_type": "execute_result",
          "data": {
            "text/plain": [
              "'anomaly boy from uosda apaproved mledms heure crack mutagen poliomyelitis axisymmetric virus bernoulli pervade cadenza arena martin cardioid familiar bladdernut inductee donor you tranquil bar kingdom dinnerware pedagogy traipse chromate idle mph diligent company contributor bal antipodean escadrille stan affiance antagonist roil siren conrad repression bluejacket conduce continue myriad configuration brute anthem yore pessimal turpitude bum macintoshdogleg'"
            ],
            "application/vnd.google.colaboratory.intrinsic+json": {
              "type": "string"
            }
          },
          "metadata": {},
          "execution_count": 25
        }
      ]
    },
    {
      "cell_type": "code",
      "source": [
        "emails[0]"
      ],
      "metadata": {
        "colab": {
          "base_uri": "https://localhost:8080/",
          "height": 87
        },
        "id": "V88YH6nr21sz",
        "outputId": "b0c31f0b-3009-40ab-8658-dcc5bc76ef8b"
      },
      "execution_count": 26,
      "outputs": [
        {
          "output_type": "execute_result",
          "data": {
            "text/plain": [
              "'Subject: anomaly boys from 3881\\nuosda apaproved mledms heure\\ncrack mutagen poliomyelitis axisymmetric virus bernoulli pervade cadenza arena martin cardioid familiar bladdernut inductee donor you tranquil bar kingdom dinnerware pedagogy traipse chromate idle mph diligent company contributor bal\\nantipodean escadrille stan affiance antagonist roil siren conrad repression bluejacket conduce continue myriad configuration brute anthem yore pessimal turpitude bum 3\\nmacintoshdogleg'"
            ],
            "application/vnd.google.colaboratory.intrinsic+json": {
              "type": "string"
            }
          },
          "metadata": {},
          "execution_count": 26
        }
      ]
    },
    {
      "cell_type": "code",
      "source": [
        "cv = CountVectorizer(stop_words=\"english\", max_features=500)\n",
        "term_docs = cv.fit_transform(cleaned_emails)"
      ],
      "metadata": {
        "id": "GMtNdiXg27nj"
      },
      "execution_count": 27,
      "outputs": []
    },
    {
      "cell_type": "code",
      "source": [
        "term_docs[0,:]"
      ],
      "metadata": {
        "colab": {
          "base_uri": "https://localhost:8080/"
        },
        "id": "xue1OhxwCNTQ",
        "outputId": "1cfe02b4-6654-40af-b789-00914e7fbd67"
      },
      "execution_count": 28,
      "outputs": [
        {
          "output_type": "execute_result",
          "data": {
            "text/plain": [
              "<1x500 sparse matrix of type '<class 'numpy.int64'>'\n",
              "\twith 2 stored elements in Compressed Sparse Row format>"
            ]
          },
          "metadata": {},
          "execution_count": 28
        }
      ]
    },
    {
      "cell_type": "code",
      "source": [
        "feature_names = cv.get_feature_names()\n",
        "feature_names[10:20]"
      ],
      "metadata": {
        "colab": {
          "base_uri": "https://localhost:8080/"
        },
        "id": "FLOxs_Y46i5B",
        "outputId": "dab107ec-c7b7-4a5f-c525-f7e198b2f038"
      },
      "execution_count": 29,
      "outputs": [
        {
          "output_type": "execute_result",
          "data": {
            "text/plain": [
              "['additional',\n",
              " 'address',\n",
              " 'adobe',\n",
              " 'advice',\n",
              " 'advise',\n",
              " 'aep',\n",
              " 'agree',\n",
              " 'agreement',\n",
              " 'aimee',\n",
              " 'align']"
            ]
          },
          "metadata": {},
          "execution_count": 29
        }
      ]
    },
    {
      "cell_type": "code",
      "source": [
        "feature_mapping = cv.vocabulary_"
      ],
      "metadata": {
        "id": "gi3RQXZG6mEv"
      },
      "execution_count": 30,
      "outputs": []
    },
    {
      "cell_type": "code",
      "source": [
        "# group the data with labels:\n",
        "def get_label_index(labels):\n",
        "  label_index = defaultdict(list)\n",
        "  for index, label in enumerate(labels):\n",
        "    label_index[label].append(index)\n",
        "\n",
        "  return label_index"
      ],
      "metadata": {
        "id": "uVCR21ZZ7RgF"
      },
      "execution_count": 31,
      "outputs": []
    },
    {
      "cell_type": "code",
      "source": [
        "label_index = get_label_index(labels)"
      ],
      "metadata": {
        "id": "SSAHty6u-PDo"
      },
      "execution_count": 32,
      "outputs": []
    },
    {
      "cell_type": "markdown",
      "source": [
        "<a name = 'nai' ></a>\n",
        "\n",
        "# Naive Bayes:"
      ],
      "metadata": {
        "id": "w1p8s84E-43V"
      }
    },
    {
      "cell_type": "code",
      "source": [
        "# prior:\n",
        "def get_prior(label_index):\n",
        "  prior = {label: len(index) for label, index in label_index.items()}\n",
        "\n",
        "  total_count = sum(prior.values())\n",
        "\n",
        "  for label in prior:\n",
        "    prior[label] /= float(total_count)\n",
        "\n",
        "  return prior"
      ],
      "metadata": {
        "id": "-S30yjj8-0d1"
      },
      "execution_count": 33,
      "outputs": []
    },
    {
      "cell_type": "code",
      "source": [
        "prior = get_prior(label_index)\n",
        "prior"
      ],
      "metadata": {
        "colab": {
          "base_uri": "https://localhost:8080/"
        },
        "id": "rdALYxwz-uF2",
        "outputId": "95faef3b-780f-4da7-aede-35d660d939b9"
      },
      "execution_count": 34,
      "outputs": [
        {
          "output_type": "execute_result",
          "data": {
            "text/plain": [
              "{0: 0.7099767981438515, 1: 0.2900232018561485}"
            ]
          },
          "metadata": {},
          "execution_count": 34
        }
      ]
    },
    {
      "cell_type": "code",
      "source": [
        "# likelihood\n",
        "def get_likelihood(term_document_matrix, label_index, smooth):\n",
        "\n",
        "  likelihood = {}\n",
        "  for label, index in label_index.items():\n",
        "    likelihood[label] = term_document_matrix[index, :].sum(axis = 0) + smooth\n",
        "    likelihood[label] = np.asarray(likelihood[label])[0]\n",
        "    total_count = likelihood[label].sum()\n",
        "    likelihood[label] = likelihood[label] / float(total_count)\n",
        "  return likelihood"
      ],
      "metadata": {
        "id": "4pQd6j5k_0VZ"
      },
      "execution_count": 35,
      "outputs": []
    },
    {
      "cell_type": "code",
      "source": [
        "likelihood = get_likelihood(term_docs, label_index, 1)"
      ],
      "metadata": {
        "id": "8qgHM79bC4_Y"
      },
      "execution_count": 36,
      "outputs": []
    },
    {
      "cell_type": "code",
      "source": [
        "likelihood[0][:10]"
      ],
      "metadata": {
        "colab": {
          "base_uri": "https://localhost:8080/"
        },
        "id": "cws8oUD0DAvS",
        "outputId": "3a5a6707-7f8c-4ad7-d41e-3b6277d564f7"
      },
      "execution_count": 37,
      "outputs": [
        {
          "output_type": "execute_result",
          "data": {
            "text/plain": [
              "array([0.00108581, 0.00095774, 0.00087978, 0.00084637, 0.00010023,\n",
              "       0.00023943, 0.00197116, 0.00134195, 0.00184309, 0.00083524])"
            ]
          },
          "metadata": {},
          "execution_count": 37
        }
      ]
    },
    {
      "cell_type": "code",
      "source": [
        "likelihood[1][:10]"
      ],
      "metadata": {
        "colab": {
          "base_uri": "https://localhost:8080/"
        },
        "id": "84tBBSq6DY1e",
        "outputId": "e4b05714-1118-48f9-9da5-1ae5719e06b9"
      },
      "execution_count": 38,
      "outputs": [
        {
          "output_type": "execute_result",
          "data": {
            "text/plain": [
              "array([1.08997429e-03, 1.41902314e-03, 4.56555270e-03, 5.34704370e-04,\n",
              "       4.21593830e-03, 2.32390746e-03, 5.55269923e-04, 1.17223650e-03,\n",
              "       2.05655527e-05, 1.06940874e-03])"
            ]
          },
          "metadata": {},
          "execution_count": 38
        }
      ]
    },
    {
      "cell_type": "code",
      "source": [
        "feature_names[:10]"
      ],
      "metadata": {
        "colab": {
          "base_uri": "https://localhost:8080/"
        },
        "id": "uXS0YdiADiHe",
        "outputId": "af8b294a-d682-4466-b2e3-0ed648a48f25"
      },
      "execution_count": 39,
      "outputs": [
        {
          "output_type": "execute_result",
          "data": {
            "text/plain": [
              "['able',\n",
              " 'access',\n",
              " 'account',\n",
              " 'accounting',\n",
              " 'act',\n",
              " 'action',\n",
              " 'activity',\n",
              " 'actual',\n",
              " 'actuals',\n",
              " 'add']"
            ]
          },
          "metadata": {},
          "execution_count": 39
        }
      ]
    },
    {
      "cell_type": "code",
      "source": [
        "# posterior\n",
        "def get_posterior(term_document_matrix, prior, likelihood):\n",
        "  num_docs = term_document_matrix.shape[0]\n",
        "  posteriors = []\n",
        "\n",
        "  for i in range(num_docs):\n",
        "    posterior = {key: np.log(prior_label) for key, prior_label in prior.items()}\n",
        "    for label, likelihood_label in likelihood.items():\n",
        "      term_document_vector = term_document_matrix.getrow(i)\n",
        "      counts = term_document_vector.data\n",
        "      indices = term_document_vector.indices\n",
        "      for count, index in zip(counts, indices):\n",
        "        posterior[label] += np.log(likelihood_label[index]) * count\n",
        "\n",
        "    min_log_posterior = min(posterior.values())\n",
        "    for label in posterior:\n",
        "      try:\n",
        "        posterior[label] = np.exp(posterior[label] - min_log_posterior)\n",
        "      except:\n",
        "        # if one's log value is excessively large, assign it infinity\n",
        "        posterior[label] = float('inf')\n",
        "\n",
        "    sum_posterior = sum(posterior.values())\n",
        "    for label in posterior:\n",
        "      if posterior[label] == float('inf'):\n",
        "        posterior[label] = 1.0\n",
        "      else:\n",
        "        posterior[label] /= sum_posterior\n",
        "    posteriors.append(posterior.copy())\n",
        "  return posteriors\n"
      ],
      "metadata": {
        "id": "KTLVEZ3LDjsi"
      },
      "execution_count": 40,
      "outputs": []
    },
    {
      "cell_type": "markdown",
      "source": [
        "<a name = 'tst' ></a>\n",
        "\n",
        "# Testing:\n"
      ],
      "metadata": {
        "id": "lX9RCCG_N3R3"
      }
    },
    {
      "cell_type": "code",
      "source": [
        "emails_test = [\n",
        " '''Subject: flat screens\n",
        "hello ,\n",
        "please call or contact regarding the other flat screens\n",
        "requested .\n",
        "trisha tlapek - eb 3132 b\n",
        "michael sergeev - eb 3132 a\n",
        "also the sun blocker that was taken away from eb 3131 a .\n",
        "trisha should two monitors also michael .\n",
        "thanks\n",
        "kevin moore''',\n",
        "'''Subject: having problems in bed ? we can help !\n",
        "cialis allows men to enjoy a fully normal sex life without \n",
        "having to plan the sexual act .\n",
        "if we let things terrify us, life will not be worth living \n",
        "brevity is the soul of lingerie .\n",
        "suspicion always haunts the guilty mind .''' ]"
      ],
      "metadata": {
        "id": "II2Z_NpWNid5"
      },
      "execution_count": 41,
      "outputs": []
    },
    {
      "cell_type": "code",
      "source": [
        "cleaned_test = clean_text(emails_test)\n",
        "term_docs_test = cv.transform(cleaned_test)\n",
        "posterior = get_posterior(term_docs_test, prior, likelihood)\n",
        "print(posterior)"
      ],
      "metadata": {
        "colab": {
          "base_uri": "https://localhost:8080/"
        },
        "id": "CbgrZ_ENN-0w",
        "outputId": "6cf7949c-23b1-401c-9f17-f9910c13f405"
      },
      "execution_count": 42,
      "outputs": [
        {
          "output_type": "stream",
          "name": "stdout",
          "text": [
            "[{1: 0.0032745671008376, 0: 0.9967254328991624}, {1: 0.9999984725538845, 0: 1.5274461154428757e-06}]\n"
          ]
        }
      ]
    },
    {
      "cell_type": "markdown",
      "source": [
        "Both examples are predicted correctly"
      ],
      "metadata": {
        "id": "aIkIVLDrPwEP"
      }
    },
    {
      "cell_type": "markdown",
      "source": [
        "<a name = 'eva' ></a>\n",
        "\n",
        "# Model Evaluation:"
      ],
      "metadata": {
        "id": "7-3qGrGwQCJp"
      }
    },
    {
      "cell_type": "code",
      "source": [
        "X_train, X_test, Y_train, Y_test = train_test_split(cleaned_emails, labels, test_size=0.33, random_state=42)"
      ],
      "metadata": {
        "id": "W0B5JQJ7PR6W"
      },
      "execution_count": 43,
      "outputs": []
    },
    {
      "cell_type": "code",
      "source": [
        "len(X_train), len(X_test)"
      ],
      "metadata": {
        "colab": {
          "base_uri": "https://localhost:8080/"
        },
        "id": "RSanXcoDQN-X",
        "outputId": "b0fc2c32-7f36-44d0-8f0c-0214a611b31f"
      },
      "execution_count": 44,
      "outputs": [
        {
          "output_type": "execute_result",
          "data": {
            "text/plain": [
              "(3465, 1707)"
            ]
          },
          "metadata": {},
          "execution_count": 44
        }
      ]
    },
    {
      "cell_type": "code",
      "source": [
        "term_docs_train = cv.fit_transform(X_train)\n",
        "label_index = get_label_index(Y_train)\n",
        "prior = get_prior(label_index)\n",
        "likelihood = get_likelihood(term_docs_train, label_index, 1)"
      ],
      "metadata": {
        "id": "8RhkhJmDQS-R"
      },
      "execution_count": 45,
      "outputs": []
    },
    {
      "cell_type": "code",
      "source": [
        "term_docs_test = cv.transform(X_test)\n",
        "posterior = get_posterior(term_docs_test, prior, likelihood)"
      ],
      "metadata": {
        "id": "kU9p_CUzQgo-"
      },
      "execution_count": 46,
      "outputs": []
    },
    {
      "cell_type": "code",
      "source": [
        "correct = 0.0\n",
        "for pred, actual in zip(posterior, Y_test):\n",
        "  if actual == 1:\n",
        "    if pred[1] >= 0.5:\n",
        "      correct += 1\n",
        "  elif pred[0] > 0.5:\n",
        "      correct += 1\n",
        "print('The accuracy on {0} testing samples is: {1:.1f}%'.format(len(Y_test), correct/len(Y_test)*100))"
      ],
      "metadata": {
        "colab": {
          "base_uri": "https://localhost:8080/"
        },
        "id": "9qur2l4UQjBD",
        "outputId": "5a58ae81-5fb4-4dd7-9c53-cc776bf6b069"
      },
      "execution_count": 47,
      "outputs": [
        {
          "output_type": "stream",
          "name": "stdout",
          "text": [
            "The accuracy on 1707 testing samples is: 92.1%\n"
          ]
        }
      ]
    },
    {
      "cell_type": "markdown",
      "source": [
        "## From Sklearn directly:"
      ],
      "metadata": {
        "id": "9ADM0Bh9LfJc"
      }
    },
    {
      "cell_type": "code",
      "source": [
        "clf = MultinomialNB(alpha=1.0, fit_prior=True)\n",
        "clf.fit(term_docs_train, Y_train)\n",
        "prediction = clf.predict(term_docs_test)"
      ],
      "metadata": {
        "id": "L1e7bo3XRVav"
      },
      "execution_count": 52,
      "outputs": []
    },
    {
      "cell_type": "code",
      "source": [
        "accuracy = clf.score(term_docs_test, Y_test)\n",
        "print('The accuracy using MultinomialNB is: {0:.2f}%'.format(accuracy))"
      ],
      "metadata": {
        "colab": {
          "base_uri": "https://localhost:8080/"
        },
        "id": "WR1GRR3-PkJG",
        "outputId": "cb7f6a5c-3623-4640-d646-0d84c0085689"
      },
      "execution_count": 54,
      "outputs": [
        {
          "output_type": "stream",
          "name": "stdout",
          "text": [
            "The accuracy using MultinomialNB is: 0.92%\n"
          ]
        }
      ]
    },
    {
      "cell_type": "markdown",
      "source": [
        "### confusion matrix:"
      ],
      "metadata": {
        "id": "IleG8MERR6ZH"
      }
    },
    {
      "cell_type": "code",
      "source": [
        "conf = confusion_matrix(Y_test, prediction, labels=[0, 1])\n",
        "print(conf)"
      ],
      "metadata": {
        "colab": {
          "base_uri": "https://localhost:8080/"
        },
        "id": "aeJqLdj3P92K",
        "outputId": "c5774dca-3243-4e7c-87ef-8e730d60d1dc"
      },
      "execution_count": 57,
      "outputs": [
        {
          "output_type": "stream",
          "name": "stdout",
          "text": [
            "[[1106   85]\n",
            " [  49  467]]\n"
          ]
        }
      ]
    },
    {
      "cell_type": "code",
      "source": [
        "precision_score(Y_test, prediction)"
      ],
      "metadata": {
        "colab": {
          "base_uri": "https://localhost:8080/"
        },
        "id": "m_ocdWWaR--y",
        "outputId": "8101c337-7a36-4a16-a116-aa8b5d2f8d3a"
      },
      "execution_count": 58,
      "outputs": [
        {
          "output_type": "execute_result",
          "data": {
            "text/plain": [
              "0.8460144927536232"
            ]
          },
          "metadata": {},
          "execution_count": 58
        }
      ]
    },
    {
      "cell_type": "code",
      "source": [
        "recall_score(Y_test, prediction)"
      ],
      "metadata": {
        "colab": {
          "base_uri": "https://localhost:8080/"
        },
        "id": "nCq8wu34TzAt",
        "outputId": "666c2a31-e8ba-40ba-f501-eb981d518a47"
      },
      "execution_count": 61,
      "outputs": [
        {
          "output_type": "execute_result",
          "data": {
            "text/plain": [
              "0.9050387596899225"
            ]
          },
          "metadata": {},
          "execution_count": 61
        }
      ]
    },
    {
      "cell_type": "code",
      "source": [
        "f1_score(Y_test, prediction)"
      ],
      "metadata": {
        "colab": {
          "base_uri": "https://localhost:8080/"
        },
        "id": "3UJ6vD3ST4kV",
        "outputId": "70b17339-d7ab-4871-8bac-2c66f43a2249"
      },
      "execution_count": 63,
      "outputs": [
        {
          "output_type": "execute_result",
          "data": {
            "text/plain": [
              "0.8745318352059924"
            ]
          },
          "metadata": {},
          "execution_count": 63
        }
      ]
    },
    {
      "cell_type": "code",
      "source": [
        "report = classification_report(Y_test, prediction)\n",
        "print(report)"
      ],
      "metadata": {
        "colab": {
          "base_uri": "https://localhost:8080/"
        },
        "id": "nbAwGVyOULMS",
        "outputId": "e421573d-8ba8-4e40-b7a3-4f3cd9b2a716"
      },
      "execution_count": 65,
      "outputs": [
        {
          "output_type": "stream",
          "name": "stdout",
          "text": [
            "              precision    recall  f1-score   support\n",
            "\n",
            "           0       0.96      0.93      0.94      1191\n",
            "           1       0.85      0.91      0.87       516\n",
            "\n",
            "    accuracy                           0.92      1707\n",
            "   macro avg       0.90      0.92      0.91      1707\n",
            "weighted avg       0.92      0.92      0.92      1707\n",
            "\n"
          ]
        }
      ]
    },
    {
      "cell_type": "markdown",
      "source": [
        "### ROC:"
      ],
      "metadata": {
        "id": "s1ehehvEY-EL"
      }
    },
    {
      "cell_type": "code",
      "source": [
        "prediction_prob = clf.predict_proba(term_docs_test)\n",
        "pos_prob = prediction_prob[:, 1]\n",
        "thresholds = np.arange(0.0, 1.2, 0.1)\n",
        "true_pos, false_pos = [0]*len(thresholds), [0]*len(thresholds)\n",
        "for pred, y in zip(pos_prob, Y_test):\n",
        "  for i, threshold in enumerate(thresholds):\n",
        "    if pred >= threshold:\n",
        "    # if truth and prediction are both 1\n",
        "      if y == 1:\n",
        "        true_pos[i] += 1\n",
        "      else:\n",
        "        false_pos[i] += 1\n",
        "    else:\n",
        "      break"
      ],
      "metadata": {
        "id": "TJpdQDyiU6NE"
      },
      "execution_count": 66,
      "outputs": []
    },
    {
      "cell_type": "code",
      "source": [
        "true_pos_rate = [tp / 516.0 for tp in true_pos]\n",
        "false_pos_rate = [fp / 1191.0 for fp in false_pos]"
      ],
      "metadata": {
        "id": "H50TVlO9aM3z"
      },
      "execution_count": 67,
      "outputs": []
    },
    {
      "cell_type": "code",
      "source": [
        "plt.figure()\n",
        "lw = 2\n",
        "plt.plot(false_pos_rate, true_pos_rate, color='darkorange', lw=lw)\n",
        "plt.plot([0, 1], [0, 1], color='navy', lw=lw, linestyle='--')\n",
        "plt.xlim([0.0, 1.0])\n",
        "plt.ylim([0.0, 1.0])\n",
        "plt.xlabel('False Positive Rate')\n",
        "plt.ylabel('True Positive Rate')\n",
        "plt.title('Receiver Operating Characteristic')\n",
        "plt.show();"
      ],
      "metadata": {
        "colab": {
          "base_uri": "https://localhost:8080/",
          "height": 295
        },
        "id": "vr-vkyesaSEv",
        "outputId": "d8d19ea2-89f1-46c0-8917-c60136c6041d"
      },
      "execution_count": 71,
      "outputs": [
        {
          "output_type": "display_data",
          "data": {
            "text/plain": [
              "<Figure size 432x288 with 1 Axes>"
            ],
            "image/png": "[encoded data removed]"
          },
          "metadata": {
            "needs_background": "light"
          }
        }
      ]
    },
    {
      "cell_type": "code",
      "source": [
        "roc_auc_score(Y_test, pos_prob)"
      ],
      "metadata": {
        "colab": {
          "base_uri": "https://localhost:8080/"
        },
        "id": "AkkpXkXmbijs",
        "outputId": "0a2828aa-e929-46e2-d307-01c7bd5e4f11"
      },
      "execution_count": 73,
      "outputs": [
        {
          "output_type": "execute_result",
          "data": {
            "text/plain": [
              "0.9589044773787905"
            ]
          },
          "metadata": {},
          "execution_count": 73
        }
      ]
    },
    {
      "cell_type": "markdown",
      "source": [
        "<a name = 'cross-va' ></a>\n",
        "\n",
        "# K-fold cross-validation and Tunning"
      ],
      "metadata": {
        "id": "8c-KLGGccd68"
      }
    },
    {
      "cell_type": "code",
      "source": [
        "# to assess the model in general:\n",
        "k = 10\n",
        "k_fold = StratifiedKFold(n_splits= k )\n",
        "cleaned_emails_np = np.array(cleaned_emails)\n",
        "labels_np = np.array(labels)"
      ],
      "metadata": {
        "id": "Y73JQdEycOto"
      },
      "execution_count": 75,
      "outputs": []
    },
    {
      "cell_type": "code",
      "source": [
        "max_features_option = [2000, 4000, 8000]\n",
        "smoothing_factor_option = [0.5, 1.0, 1.5, 2.0]\n",
        "fit_prior_option = [True, False]\n",
        "auc_record = {}"
      ],
      "metadata": {
        "id": "Z9Zrk3VhdRAk"
      },
      "execution_count": 76,
      "outputs": []
    },
    {
      "cell_type": "code",
      "source": [
        "for train_indices, test_indices in k_fold.split(cleaned_emails, labels):\n",
        "   X_train, X_test = cleaned_emails_np[train_indices], cleaned_emails_np[test_indices]\n",
        "   Y_train, Y_test = labels_np[train_indices], labels_np[test_indices]\n",
        "   for max_features in max_features_option:\n",
        "     if max_features not in auc_record:\n",
        "       auc_record[max_features] = {}\n",
        "     cv = CountVectorizer(stop_words=\"english\", max_features=max_features)\n",
        "     term_docs_train = cv.fit_transform(X_train)\n",
        "     term_docs_test = cv.transform(X_test)\n",
        "\n",
        "     for smoothing in smoothing_factor_option:\n",
        "       if smoothing not in auc_record[max_features]:\n",
        "          auc_record[max_features][smoothing] = {}\n",
        "       for fit_prior in fit_prior_option:\n",
        "         clf = MultinomialNB(alpha=smoothing, fit_prior=fit_prior)\n",
        "         clf.fit(term_docs_train, Y_train)\n",
        "         prediction_prob = clf.predict_proba(term_docs_test)\n",
        "         pos_prob = prediction_prob[:, 1]\n",
        "         auc = roc_auc_score(Y_test, pos_prob)\n",
        "         auc_record[max_features][smoothing][fit_prior] = auc + auc_record[max_features][smoothing].get(fit_prior, 0.0)\n",
        "\n"
      ],
      "metadata": {
        "id": "PdP6tX13eWY3"
      },
      "execution_count": 77,
      "outputs": []
    },
    {
      "cell_type": "code",
      "source": [
        "print('max features  smoothing  fit prior'.format(max_features, smoothing, fit_prior, auc/k))\n",
        "for max_features, max_feature_record in auc_record.items():\n",
        "  for smoothing, smoothing_record in max_feature_record.items():\n",
        "      for fit_prior, auc in smoothing_record.items():\n",
        "        print('       {0}      {1}      {2}    {3:.4f}'.format(max_features, smoothing, fit_prior, auc/k))\n",
        "   \n"
      ],
      "metadata": {
        "colab": {
          "base_uri": "https://localhost:8080/"
        },
        "id": "C_pqALE2oKNN",
        "outputId": "eb1e0a91-a597-4edf-9e0e-6a4c66761652"
      },
      "execution_count": 81,
      "outputs": [
        {
          "output_type": "stream",
          "name": "stdout",
          "text": [
            "max features  smoothing  fit prior\n",
            "       2000      0.5      True    0.9662\n",
            "       2000      0.5      False    0.9662\n",
            "       2000      1.0      True    0.9647\n",
            "       2000      1.0      False    0.9646\n",
            "       2000      1.5      True    0.9640\n",
            "       2000      1.5      False    0.9640\n",
            "       2000      2.0      True    0.9636\n",
            "       2000      2.0      False    0.9635\n",
            "       4000      0.5      True    0.9713\n",
            "       4000      0.5      False    0.9712\n",
            "       4000      1.0      True    0.9699\n",
            "       4000      1.0      False    0.9698\n",
            "       4000      1.5      True    0.9690\n",
            "       4000      1.5      False    0.9690\n",
            "       4000      2.0      True    0.9686\n",
            "       4000      2.0      False    0.9686\n",
            "       8000      0.5      True    0.9749\n",
            "       8000      0.5      False    0.9749\n",
            "       8000      1.0      True    0.9737\n",
            "       8000      1.0      False    0.9736\n",
            "       8000      1.5      True    0.9732\n",
            "       8000      1.5      False    0.9732\n",
            "       8000      2.0      True    0.9729\n",
            "       8000      2.0      False    0.9730\n"
          ]
        }
      ]
    },
    {
      "cell_type": "markdown",
      "source": [
        "We can see that (8000, .5, True) and (8000, .5, False) sets enable the best AUC .9749"
      ],
      "metadata": {
        "id": "mDZHy8BjpDyW"
      }
    }
  ]
}